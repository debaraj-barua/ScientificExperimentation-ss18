{
 "cells": [
  {
   "cell_type": "code",
   "execution_count": 1,
   "metadata": {},
   "outputs": [],
   "source": [
    "import pandas as pd\n",
    "import numpy as np\n",
    "from IPython.display import display\n",
    "import matplotlib.pyplot as plt\n",
    "from collections import OrderedDict"
   ]
  },
  {
   "cell_type": "code",
   "execution_count": 21,
   "metadata": {},
   "outputs": [],
   "source": [
    "straight = pd.read_csv('data/Straight_1.csv')\n",
    "leftArc = pd.read_csv('data/LeftArc.csv')\n",
    "rightArc = pd.read_csv('data/RightArc.csv')\n",
    "initial = pd.read_csv('data/Start.csv')"
   ]
  },
  {
   "cell_type": "code",
   "execution_count": 22,
   "metadata": {
    "scrolled": true
   },
   "outputs": [
    {
     "name": "stdout",
     "output_type": "stream",
     "text": [
      "----Start---\n"
     ]
    },
    {
     "data": {
      "text/html": [
       "<div>\n",
       "<style scoped>\n",
       "    .dataframe tbody tr th:only-of-type {\n",
       "        vertical-align: middle;\n",
       "    }\n",
       "\n",
       "    .dataframe tbody tr th {\n",
       "        vertical-align: top;\n",
       "    }\n",
       "\n",
       "    .dataframe thead th {\n",
       "        text-align: right;\n",
       "    }\n",
       "</style>\n",
       "<table border=\"1\" class=\"dataframe\">\n",
       "  <thead>\n",
       "    <tr style=\"text-align: right;\">\n",
       "      <th></th>\n",
       "      <th>X_L(cm)</th>\n",
       "      <th>Y_L(cm)</th>\n",
       "      <th>X_R(cm)</th>\n",
       "      <th>Y_R(cm)</th>\n",
       "      <th>Angle(degrees)</th>\n",
       "    </tr>\n",
       "  </thead>\n",
       "  <tbody>\n",
       "    <tr>\n",
       "      <th>0</th>\n",
       "      <td>0</td>\n",
       "      <td>0</td>\n",
       "      <td>8.3</td>\n",
       "      <td>0</td>\n",
       "      <td>90</td>\n",
       "    </tr>\n",
       "  </tbody>\n",
       "</table>\n",
       "</div>"
      ],
      "text/plain": [
       "   X_L(cm)  Y_L(cm)  X_R(cm)  Y_R(cm)  Angle(degrees)\n",
       "0        0        0      8.3        0              90"
      ]
     },
     "metadata": {},
     "output_type": "display_data"
    },
    {
     "name": "stdout",
     "output_type": "stream",
     "text": [
      "----Straight---\n"
     ]
    },
    {
     "data": {
      "text/html": [
       "<div>\n",
       "<style scoped>\n",
       "    .dataframe tbody tr th:only-of-type {\n",
       "        vertical-align: middle;\n",
       "    }\n",
       "\n",
       "    .dataframe tbody tr th {\n",
       "        vertical-align: top;\n",
       "    }\n",
       "\n",
       "    .dataframe thead th {\n",
       "        text-align: right;\n",
       "    }\n",
       "</style>\n",
       "<table border=\"1\" class=\"dataframe\">\n",
       "  <thead>\n",
       "    <tr style=\"text-align: right;\">\n",
       "      <th></th>\n",
       "      <th>X_L (cm)</th>\n",
       "      <th>Y_L (cm)</th>\n",
       "      <th>X_R (cm)</th>\n",
       "      <th>Y_R (cm)</th>\n",
       "      <th>Theta (degrees)</th>\n",
       "    </tr>\n",
       "  </thead>\n",
       "  <tbody>\n",
       "    <tr>\n",
       "      <th>0</th>\n",
       "      <td>0.2</td>\n",
       "      <td>52.2</td>\n",
       "      <td>8.4</td>\n",
       "      <td>52.1</td>\n",
       "      <td>89</td>\n",
       "    </tr>\n",
       "    <tr>\n",
       "      <th>1</th>\n",
       "      <td>2.0</td>\n",
       "      <td>52.4</td>\n",
       "      <td>10.3</td>\n",
       "      <td>52.0</td>\n",
       "      <td>87</td>\n",
       "    </tr>\n",
       "    <tr>\n",
       "      <th>2</th>\n",
       "      <td>1.6</td>\n",
       "      <td>52.4</td>\n",
       "      <td>9.9</td>\n",
       "      <td>52.0</td>\n",
       "      <td>88</td>\n",
       "    </tr>\n",
       "    <tr>\n",
       "      <th>3</th>\n",
       "      <td>1.2</td>\n",
       "      <td>52.3</td>\n",
       "      <td>9.5</td>\n",
       "      <td>52.0</td>\n",
       "      <td>88</td>\n",
       "    </tr>\n",
       "    <tr>\n",
       "      <th>4</th>\n",
       "      <td>0.4</td>\n",
       "      <td>52.3</td>\n",
       "      <td>8.7</td>\n",
       "      <td>52.2</td>\n",
       "      <td>89</td>\n",
       "    </tr>\n",
       "  </tbody>\n",
       "</table>\n",
       "</div>"
      ],
      "text/plain": [
       "   X_L (cm)  Y_L (cm)  X_R (cm)  Y_R (cm)  Theta (degrees)\n",
       "0       0.2      52.2       8.4      52.1               89\n",
       "1       2.0      52.4      10.3      52.0               87\n",
       "2       1.6      52.4       9.9      52.0               88\n",
       "3       1.2      52.3       9.5      52.0               88\n",
       "4       0.4      52.3       8.7      52.2               89"
      ]
     },
     "metadata": {},
     "output_type": "display_data"
    },
    {
     "name": "stdout",
     "output_type": "stream",
     "text": [
      "----LeftArc---\n"
     ]
    },
    {
     "data": {
      "text/html": [
       "<div>\n",
       "<style scoped>\n",
       "    .dataframe tbody tr th:only-of-type {\n",
       "        vertical-align: middle;\n",
       "    }\n",
       "\n",
       "    .dataframe tbody tr th {\n",
       "        vertical-align: top;\n",
       "    }\n",
       "\n",
       "    .dataframe thead th {\n",
       "        text-align: right;\n",
       "    }\n",
       "</style>\n",
       "<table border=\"1\" class=\"dataframe\">\n",
       "  <thead>\n",
       "    <tr style=\"text-align: right;\">\n",
       "      <th></th>\n",
       "      <th>X_L (cm)</th>\n",
       "      <th>Y_L (cm)</th>\n",
       "      <th>X_R (cm)</th>\n",
       "      <th>Y_R (cm)</th>\n",
       "      <th>Theta (degrees)</th>\n",
       "    </tr>\n",
       "  </thead>\n",
       "  <tbody>\n",
       "    <tr>\n",
       "      <th>0</th>\n",
       "      <td>-19.7</td>\n",
       "      <td>35.0</td>\n",
       "      <td>-15.8</td>\n",
       "      <td>42.3</td>\n",
       "      <td>145</td>\n",
       "    </tr>\n",
       "    <tr>\n",
       "      <th>1</th>\n",
       "      <td>-19.3</td>\n",
       "      <td>35.5</td>\n",
       "      <td>-15.2</td>\n",
       "      <td>42.6</td>\n",
       "      <td>142</td>\n",
       "    </tr>\n",
       "    <tr>\n",
       "      <th>2</th>\n",
       "      <td>-19.6</td>\n",
       "      <td>35.4</td>\n",
       "      <td>-15.6</td>\n",
       "      <td>42.6</td>\n",
       "      <td>145</td>\n",
       "    </tr>\n",
       "    <tr>\n",
       "      <th>3</th>\n",
       "      <td>-18.1</td>\n",
       "      <td>35.5</td>\n",
       "      <td>-13.8</td>\n",
       "      <td>42.9</td>\n",
       "      <td>141</td>\n",
       "    </tr>\n",
       "    <tr>\n",
       "      <th>4</th>\n",
       "      <td>-19.5</td>\n",
       "      <td>35.2</td>\n",
       "      <td>-15.5</td>\n",
       "      <td>42.3</td>\n",
       "      <td>144</td>\n",
       "    </tr>\n",
       "  </tbody>\n",
       "</table>\n",
       "</div>"
      ],
      "text/plain": [
       "   X_L (cm)  Y_L (cm)  X_R (cm)  Y_R (cm)  Theta (degrees)\n",
       "0     -19.7      35.0     -15.8      42.3              145\n",
       "1     -19.3      35.5     -15.2      42.6              142\n",
       "2     -19.6      35.4     -15.6      42.6              145\n",
       "3     -18.1      35.5     -13.8      42.9              141\n",
       "4     -19.5      35.2     -15.5      42.3              144"
      ]
     },
     "metadata": {},
     "output_type": "display_data"
    },
    {
     "name": "stdout",
     "output_type": "stream",
     "text": [
      "----RightArc---\n"
     ]
    },
    {
     "data": {
      "text/html": [
       "<div>\n",
       "<style scoped>\n",
       "    .dataframe tbody tr th:only-of-type {\n",
       "        vertical-align: middle;\n",
       "    }\n",
       "\n",
       "    .dataframe tbody tr th {\n",
       "        vertical-align: top;\n",
       "    }\n",
       "\n",
       "    .dataframe thead th {\n",
       "        text-align: right;\n",
       "    }\n",
       "</style>\n",
       "<table border=\"1\" class=\"dataframe\">\n",
       "  <thead>\n",
       "    <tr style=\"text-align: right;\">\n",
       "      <th></th>\n",
       "      <th>X_L (cm)</th>\n",
       "      <th>Y_L (cm)</th>\n",
       "      <th>X_R (cm)</th>\n",
       "      <th>Y_R (cm)</th>\n",
       "      <th>Theta (degrees)</th>\n",
       "    </tr>\n",
       "  </thead>\n",
       "  <tbody>\n",
       "    <tr>\n",
       "      <th>0</th>\n",
       "      <td>23.7</td>\n",
       "      <td>42.2</td>\n",
       "      <td>27.5</td>\n",
       "      <td>35.0</td>\n",
       "      <td>33</td>\n",
       "    </tr>\n",
       "    <tr>\n",
       "      <th>1</th>\n",
       "      <td>22.4</td>\n",
       "      <td>43.2</td>\n",
       "      <td>26.5</td>\n",
       "      <td>36.1</td>\n",
       "      <td>34</td>\n",
       "    </tr>\n",
       "    <tr>\n",
       "      <th>2</th>\n",
       "      <td>22.7</td>\n",
       "      <td>42.6</td>\n",
       "      <td>26.9</td>\n",
       "      <td>35.5</td>\n",
       "      <td>34</td>\n",
       "    </tr>\n",
       "    <tr>\n",
       "      <th>3</th>\n",
       "      <td>23.2</td>\n",
       "      <td>42.5</td>\n",
       "      <td>27.3</td>\n",
       "      <td>35.2</td>\n",
       "      <td>34</td>\n",
       "    </tr>\n",
       "    <tr>\n",
       "      <th>4</th>\n",
       "      <td>21.5</td>\n",
       "      <td>43.7</td>\n",
       "      <td>25.8</td>\n",
       "      <td>36.7</td>\n",
       "      <td>35</td>\n",
       "    </tr>\n",
       "  </tbody>\n",
       "</table>\n",
       "</div>"
      ],
      "text/plain": [
       "   X_L (cm)  Y_L (cm)  X_R (cm)  Y_R (cm)  Theta (degrees)\n",
       "0      23.7      42.2      27.5      35.0               33\n",
       "1      22.4      43.2      26.5      36.1               34\n",
       "2      22.7      42.6      26.9      35.5               34\n",
       "3      23.2      42.5      27.3      35.2               34\n",
       "4      21.5      43.7      25.8      36.7               35"
      ]
     },
     "metadata": {},
     "output_type": "display_data"
    }
   ],
   "source": [
    "print(\"----Start---\")\n",
    "display(initial.head())\n",
    "print(\"----Straight---\")\n",
    "display(straight.head(5))\n",
    "print(\"----LeftArc---\")\n",
    "display(leftArc.head(5))\n",
    "print(\"----RightArc---\")\n",
    "display(rightArc.head(5))\n"
   ]
  },
  {
   "cell_type": "code",
   "execution_count": 23,
   "metadata": {},
   "outputs": [],
   "source": [
    "initial_left=np.array([initial[initial.columns[0]],initial[initial.columns[1]]]).T\n",
    "initial_right=np.array([initial[initial.columns[2]],initial[initial.columns[3]]]).T\n",
    "\n",
    "st_left=np.array([straight[straight.columns[0]],straight[straight.columns[1]]]).T\n",
    "st_right=np.array([straight[straight.columns[2]],straight[straight.columns[3]]]).T\n",
    "\n",
    "lftArc_left=np.array([leftArc[leftArc.columns[0]],leftArc[leftArc.columns[1]]]).T\n",
    "lftArc_right=np.array([leftArc[leftArc.columns[2]],leftArc[leftArc.columns[3]]]).T\n",
    "\n",
    "rtArc_left=np.array([rightArc[rightArc.columns[0]],rightArc[rightArc.columns[1]]]).T\n",
    "rtArc_right=np.array([rightArc[rightArc.columns[2]],rightArc[rightArc.columns[3]]]).T"
   ]
  },
  {
   "cell_type": "code",
   "execution_count": 24,
   "metadata": {},
   "outputs": [
    {
     "data": {
      "image/png": "[encoded data removed]",
      "text/plain": [
       "<matplotlib.figure.Figure at 0x7fb5536a3940>"
      ]
     },
     "metadata": {},
     "output_type": "display_data"
    }
   ],
   "source": [
    "plt.plot((initial_left[:,0],initial_right[:,0]),(initial_left[:,1],initial_right[:,1]), \n",
    "         marker='*', color = 'g', label= \"initial\")\n",
    "plt.plot((st_left[:,0],st_right[:,0]),(st_left[:,1],st_right[:,1]), \n",
    "         marker='o', color='y', label= \"Straight\")\n",
    "plt.plot((lftArc_left[:,0],lftArc_right[:,0]),(lftArc_left[:,1],lftArc_right[:,1]), \n",
    "         marker='x', color='r', label= \"Left Arc\")\n",
    "plt.plot((rtArc_left[:,0],rtArc_right[:,0]),(rtArc_left[:,1],rtArc_right[:,1]), \n",
    "         marker='^', color='b', label= \"Right Arc\")\n",
    "plt.plot()\n",
    "handles, labels = plt.gca().get_legend_handles_labels()\n",
    "by_label = OrderedDict(zip(labels, handles))\n",
    "plt.legend(by_label.values(), by_label.keys(),bbox_to_anchor=(1.05, 1), loc=2, borderaxespad=0.)\n",
    "plt.xlim(-25,35)\n",
    "plt.ylim(0,60)\n",
    "plt.grid(True)\n",
    "plt.show()"
   ]
  }
 ],
 "metadata": {
  "kernelspec": {
   "display_name": "Python 3",
   "language": "python",
   "name": "python3"
  },
  "language_info": {
   "codemirror_mode": {
    "name": "ipython",
    "version": 3
   },
   "file_extension": ".py",
   "mimetype": "text/x-python",
   "name": "python",
   "nbconvert_exporter": "python",
   "pygments_lexer": "ipython3",
   "version": "3.6.4"
  }
 },
 "nbformat": 4,
 "nbformat_minor": 2
}
