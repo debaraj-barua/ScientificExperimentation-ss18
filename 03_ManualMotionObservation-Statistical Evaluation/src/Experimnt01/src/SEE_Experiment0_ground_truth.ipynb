{
 "cells": [
  {
   "cell_type": "code",
   "execution_count": 2,
   "metadata": {
    "collapsed": false
   },
   "outputs": [],
   "source": [
    "import numpy as np"
   ]
  },
  {
   "cell_type": "code",
   "execution_count": 56,
   "metadata": {
    "collapsed": false
   },
   "outputs": [
    {
     "name": "stdout",
     "output_type": "stream",
     "text": [
      "Speed:  180.0\n",
      "Initial (X,Y):  41.5 46.0\n"
     ]
    }
   ],
   "source": [
    "time = 2.25\n",
    "l = 111.0\n",
    "\n",
    "initial_x = (-13. + 96.)/2\n",
    "initial_y = 46.\n",
    "initial_theta = np.deg2rad(90)\n",
    "\n",
    "speed = 180.0\n",
    "\n",
    "print \"Speed: \", speed\n",
    "print \"Initial (X,Y): \", initial_x, initial_y"
   ]
  },
  {
   "cell_type": "markdown",
   "metadata": {},
   "source": [
    "##### Forward directiion"
   ]
  },
  {
   "cell_type": "code",
   "execution_count": 49,
   "metadata": {
    "collapsed": false
   },
   "outputs": [
    {
     "name": "stdout",
     "output_type": "stream",
     "text": [
      "Total distance:  405.0\n"
     ]
    }
   ],
   "source": [
    "distance = time * speed\n",
    "\n",
    "print \"Total distance: \", distance+"
   ]
  },
  {
   "cell_type": "markdown",
   "metadata": {},
   "source": [
    "##### Left path"
   ]
  },
  {
   "cell_type": "code",
   "execution_count": 51,
   "metadata": {
    "collapsed": false
   },
   "outputs": [
    {
     "name": "stdout",
     "output_type": "stream",
     "text": [
      "X:  -155.834248268\n",
      "Y:  266.625476071\n",
      "Theta:  173.620867397\n"
     ]
    }
   ],
   "source": [
    "vr = speed\n",
    "vl = speed * 0.6\n",
    "\n",
    "R = (l/2.0)*((vl+vr)/(vr-vl))\n",
    "w = (vr-vl) / l\n",
    "\n",
    "#w_t = np.deg2rad(w*time)\n",
    "w_t = w*time\n",
    "ICC_x = initial_x - (R *  np.sin(initial_theta))\n",
    "ICC_y = initial_y + (R * np.cos(initial_theta))\n",
    "\n",
    "\n",
    "first = np.array([[np.cos(w_t), -np.sin(w_t), 0],\n",
    "       [np.sin(w_t), np.cos(w_t), 0],\n",
    "       [0, 0, 1]])\n",
    "\n",
    "second = np.array([[initial_x - ICC_x], [initial_y - ICC_y], [initial_theta]])\n",
    "\n",
    "third = np.array([[ICC_x], [ICC_y], [w_t]])\n",
    "\n",
    "res = first.dot(second) + third\n",
    "\n",
    "print \"X: \", res[0,0]\n",
    "print \"Y: \", res[1, 0]\n",
    "print \"Theta: \", np.rad2deg(res[2,0])"
   ]
  },
  {
   "cell_type": "code",
   "execution_count": 52,
   "metadata": {
    "collapsed": false
   },
   "outputs": [
    {
     "name": "stdout",
     "output_type": "stream",
     "text": [
      "X:  238.834248268\n",
      "Y:  266.625476071\n",
      "Theta:  6.37913260253\n"
     ]
    }
   ],
   "source": [
    "vl = speed\n",
    "vr = speed * 0.6\n",
    "\n",
    "R = (l/2.0)*((vl+vr)/(vr-vl))\n",
    "w = (vr-vl) / l\n",
    "\n",
    "#w_t = np.deg2rad(w*time)\n",
    "w_t = w*time\n",
    "ICC_x = initial_x - (R *  np.sin(initial_theta))\n",
    "ICC_y = initial_y + (R * np.cos(initial_theta))\n",
    "\n",
    "\n",
    "first = np.array([[np.cos(w_t), -np.sin(w_t), 0],\n",
    "       [np.sin(w_t), np.cos(w_t), 0],\n",
    "       [0, 0, 1]])\n",
    "\n",
    "second = np.array([[initial_x - ICC_x], [initial_y - ICC_y], [initial_theta]])\n",
    "\n",
    "third = np.array([[ICC_x], [ICC_y], [w_t]])\n",
    "\n",
    "res = first.dot(second) + third\n",
    "\n",
    "print \"X: \", res[0,0]\n",
    "print \"Y: \", res[1, 0]\n",
    "print \"Theta: \", np.rad2deg(res[2,0])"
   ]
  },
  {
   "cell_type": "code",
   "execution_count": null,
   "metadata": {
    "collapsed": true
   },
   "outputs": [],
   "source": []
  }
 ],
 "metadata": {
  "kernelspec": {
   "display_name": "Python 2",
   "language": "python",
   "name": "python2"
  },
  "language_info": {
   "codemirror_mode": {
    "name": "ipython",
    "version": 2
   },
   "file_extension": ".py",
   "mimetype": "text/x-python",
   "name": "python",
   "nbconvert_exporter": "python",
   "pygments_lexer": "ipython2",
   "version": "2.7.13"
  }
 },
 "nbformat": 4,
 "nbformat_minor": 2
}
